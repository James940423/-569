{
  "nbformat": 4,
  "nbformat_minor": 0,
  "metadata": {
    "colab": {
      "provenance": []
    },
    "kernelspec": {
      "name": "python3",
      "display_name": "Python 3"
    },
    "language_info": {
      "name": "python"
    }
  },
  "cells": [
    {
      "cell_type": "code",
      "execution_count": 10,
      "metadata": {
        "colab": {
          "base_uri": "https://localhost:8080/"
        },
        "id": "IlH1bzETCNqw",
        "outputId": "73368eeb-288a-4072-ecb9-89b638e2d1e0"
      },
      "outputs": [
        {
          "output_type": "stream",
          "name": "stdout",
          "text": [
            "enter S:6\n",
            "1*1=1\n",
            "1*2=2\n",
            "1*3=3\n",
            "1*4=4\n",
            "1*5=5\n",
            "2*1=2\n",
            "2*2=4\n",
            "2*3=6\n",
            "2*4=8\n",
            "2*5=10\n",
            "3*1=3\n",
            "3*2=6\n",
            "3*3=9\n",
            "3*4=12\n",
            "3*5=15\n",
            "4*1=4\n",
            "4*2=8\n",
            "4*3=12\n",
            "4*4=16\n",
            "4*5=20\n",
            "5*1=5\n",
            "5*2=10\n",
            "5*3=15\n",
            "5*4=20\n",
            "5*5=25\n"
          ]
        }
      ],
      "source": [
        "S=int(input(\"enter S:\"))\n",
        "for i in range(1,S):\n",
        "  for j in range(1,S):\n",
        "    product= i*j\n",
        "    print(f\"{i}*{j}={product}\")\n",
        "\n"
      ]
    },
    {
      "cell_type": "code",
      "source": [
        "import random\n",
        "target_number=random.randint(1,100)\n",
        "\n",
        "print(\"enter\")\n",
        "while True:\n",
        " S=int(input(\"enter S:\"))\n",
        " if S==target_number:\n",
        "   print(\"game over\")\n",
        "   break\n",
        " elif S > target_number:\n",
        "  print(\"too high\")\n",
        " else:\n",
        "  print(\"too low\")\n",
        "\n",
        "\n"
      ],
      "metadata": {
        "colab": {
          "base_uri": "https://localhost:8080/"
        },
        "id": "CIIH0M_tIJ9t",
        "outputId": "72ea39db-de8c-4e90-f974-39fd0a3cef69"
      },
      "execution_count": null,
      "outputs": [
        {
          "output_type": "stream",
          "name": "stdout",
          "text": [
            "enter\n",
            "enter S:3\n",
            "too low\n",
            "enter S:10\n",
            "too low\n",
            "enter S:50\n",
            "too high\n",
            "enter S:40\n",
            "too high\n",
            "enter S:30\n",
            "too high\n"
          ]
        }
      ]
    }
  ]
}